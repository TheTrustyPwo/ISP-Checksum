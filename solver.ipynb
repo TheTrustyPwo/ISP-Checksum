{
 "cells": [
  {
   "cell_type": "code",
   "id": "initial_id",
   "metadata": {
    "collapsed": true,
    "ExecuteTime": {
     "end_time": "2024-08-23T14:40:36.563142Z",
     "start_time": "2024-08-23T14:40:36.561094Z"
    }
   },
   "source": [
    "import itertools\n",
    "import numpy as np\n",
    "import seaborn as sns\n",
    "import matplotlib.pyplot as plt\n",
    "from collections import Counter"
   ],
   "outputs": [],
   "execution_count": 1
  },
  {
   "metadata": {
    "ExecuteTime": {
     "end_time": "2024-08-23T14:40:36.575888Z",
     "start_time": "2024-08-23T14:40:36.563918Z"
    }
   },
   "cell_type": "code",
   "source": [
    "check = 'ABEHJLMNRUWXY'\n",
    "with open(\"ids.txt\", \"r\") as fp:\n",
    "    dataset = fp.readlines()\n",
    "dataset = list(filter(lambda x: x[-1] in check, map(lambda x: x.strip(), dataset)))\n",
    "dataset = list(set(dataset))\n",
    "len(dataset)"
   ],
   "id": "eb278c3a2b850747",
   "outputs": [
    {
     "data": {
      "text/plain": "1200"
     },
     "execution_count": 2,
     "metadata": {},
     "output_type": "execute_result"
    }
   ],
   "execution_count": 2
  },
  {
   "metadata": {
    "ExecuteTime": {
     "end_time": "2024-08-23T14:40:36.580808Z",
     "start_time": "2024-08-23T14:40:36.577204Z"
    }
   },
   "cell_type": "code",
   "source": [
    "sample = []\n",
    "for char in check:\n",
    "    for j in dataset:\n",
    "        if char in j:\n",
    "            sample.append(j)\n",
    "            break\n",
    "print(sample)"
   ],
   "id": "3a728366e10203e3",
   "outputs": [
    {
     "name": "stdout",
     "output_type": "stream",
     "text": [
      "['191403A', '202809B', '191843E', '202736H', '203091J', '202628L', '191253M', '191662N', '192010R', '202995U', '202674W', '202476X', '191634Y']\n"
     ]
    }
   ],
   "execution_count": 3
  },
  {
   "metadata": {
    "ExecuteTime": {
     "end_time": "2024-08-23T14:40:36.590731Z",
     "start_time": "2024-08-23T14:40:36.581646Z"
    }
   },
   "cell_type": "code",
   "source": [
    "def checksum(number, weights):\n",
    "    return sum(int(digit) * weight for digit, weight in zip(number[:-1], weights)) % 13"
   ],
   "id": "f3e5f1d61eb0d0bb",
   "outputs": [],
   "execution_count": 4
  },
  {
   "metadata": {
    "ExecuteTime": {
     "end_time": "2024-08-23T14:41:17.576163Z",
     "start_time": "2024-08-23T14:40:36.591604Z"
    }
   },
   "cell_type": "code",
   "source": [
    "valid = []\n",
    "for combo in itertools.product(range(0, 13), repeat=6):\n",
    "        weights = [*combo]\n",
    "        mapping = {checksum(data, weights): data[-1] for data in sample}\n",
    "        if len(mapping) != 13: continue\n",
    "        if all(mapping.get(checksum(data, weights), '') == data[-1] for data in dataset[:500]):\n",
    "            print(weights, mapping)\n",
    "            valid.append((weights, mapping))"
   ],
   "id": "520c73f97b650752",
   "outputs": [
    {
     "name": "stdout",
     "output_type": "stream",
     "text": [
      "[0, 1, 3, 1, 2, 7] {11: 'A', 12: 'B', 10: 'E', 9: 'H', 8: 'J', 7: 'L', 6: 'M', 5: 'N', 4: 'R', 3: 'U', 2: 'W', 1: 'X', 0: 'Y'}\n",
      "[0, 2, 6, 2, 4, 1] {9: 'A', 11: 'B', 7: 'E', 5: 'H', 3: 'J', 1: 'L', 12: 'M', 10: 'N', 8: 'R', 6: 'U', 4: 'W', 2: 'X', 0: 'Y'}\n",
      "[0, 3, 9, 3, 6, 8] {7: 'A', 10: 'B', 4: 'E', 1: 'H', 11: 'J', 8: 'L', 5: 'M', 2: 'N', 12: 'R', 9: 'U', 6: 'W', 3: 'X', 0: 'Y'}\n",
      "[0, 4, 12, 4, 8, 2] {5: 'A', 9: 'B', 1: 'E', 10: 'H', 6: 'J', 2: 'L', 11: 'M', 7: 'N', 3: 'R', 12: 'U', 8: 'W', 4: 'X', 0: 'Y'}\n",
      "[0, 5, 2, 5, 10, 9] {3: 'A', 8: 'B', 11: 'E', 6: 'H', 1: 'J', 9: 'L', 4: 'M', 12: 'N', 7: 'R', 2: 'U', 10: 'W', 5: 'X', 0: 'Y'}\n",
      "[0, 6, 5, 6, 12, 3] {1: 'A', 7: 'B', 8: 'E', 2: 'H', 9: 'J', 3: 'L', 10: 'M', 4: 'N', 11: 'R', 5: 'U', 12: 'W', 6: 'X', 0: 'Y'}\n",
      "[0, 7, 8, 7, 1, 10] {12: 'A', 6: 'B', 5: 'E', 11: 'H', 4: 'J', 10: 'L', 3: 'M', 9: 'N', 2: 'R', 8: 'U', 1: 'W', 7: 'X', 0: 'Y'}\n",
      "[0, 8, 11, 8, 3, 4] {10: 'A', 5: 'B', 2: 'E', 7: 'H', 12: 'J', 4: 'L', 9: 'M', 1: 'N', 6: 'R', 11: 'U', 3: 'W', 8: 'X', 0: 'Y'}\n",
      "[0, 9, 1, 9, 5, 11] {8: 'A', 4: 'B', 12: 'E', 3: 'H', 7: 'J', 11: 'L', 2: 'M', 6: 'N', 10: 'R', 1: 'U', 5: 'W', 9: 'X', 0: 'Y'}\n",
      "[0, 10, 4, 10, 7, 5] {6: 'A', 3: 'B', 9: 'E', 12: 'H', 2: 'J', 5: 'L', 8: 'M', 11: 'N', 1: 'R', 4: 'U', 7: 'W', 10: 'X', 0: 'Y'}\n",
      "[0, 11, 7, 11, 9, 12] {4: 'A', 2: 'B', 6: 'E', 8: 'H', 10: 'J', 12: 'L', 1: 'M', 3: 'N', 5: 'R', 7: 'U', 9: 'W', 11: 'X', 0: 'Y'}\n",
      "[0, 12, 10, 12, 11, 6] {2: 'A', 1: 'B', 3: 'E', 4: 'H', 5: 'J', 6: 'L', 7: 'M', 8: 'N', 9: 'R', 10: 'U', 11: 'W', 12: 'X', 0: 'Y'}\n"
     ]
    }
   ],
   "execution_count": 5
  },
  {
   "metadata": {
    "ExecuteTime": {
     "end_time": "2024-08-23T14:41:17.579799Z",
     "start_time": "2024-08-23T14:41:17.577095Z"
    }
   },
   "cell_type": "code",
   "source": [
    "len(valid)"
   ],
   "id": "8d177148d4684990",
   "outputs": [
    {
     "data": {
      "text/plain": "12"
     },
     "execution_count": 6,
     "metadata": {},
     "output_type": "execute_result"
    }
   ],
   "execution_count": 6
  },
  {
   "metadata": {
    "ExecuteTime": {
     "end_time": "2024-08-23T14:41:17.588274Z",
     "start_time": "2024-08-23T14:41:17.580527Z"
    }
   },
   "cell_type": "code",
   "outputs": [],
   "execution_count": 7,
   "source": [
    "mapping = {11: 'A', 12: 'B', 10: 'E', 9: 'H', 8: 'J', 7: 'L', 6: 'M', 5: 'N', 4: 'R', 3: 'U', 2: 'W', 1: 'X', 0: 'Y'}\n",
    "weights = [0, 1, 3, 1, 2, 7]"
   ],
   "id": "e1484a637da249d2"
  },
  {
   "cell_type": "code",
   "outputs": [
    {
     "data": {
      "text/plain": "<Figure size 720x720 with 4 Axes>",
      "image/png": "[encoded data removed]"
     },
     "metadata": {
      "needs_background": "light"
     },
     "output_type": "display_data"
    }
   ],
   "source": [
    "numbers = [entry[2:-1] for entry in dataset]\n",
    "digit_counts = [Counter() for _ in range(len(numbers[0]))]\n",
    "\n",
    "for number in numbers:\n",
    "    for idx, digit in enumerate(number):\n",
    "        digit_counts[idx][digit] += 1\n",
    "\n",
    "digit_frequency = np.zeros((len(numbers[0]), 10))\n",
    "for idx, counter in enumerate(digit_counts):\n",
    "    for digit, count in counter.items():\n",
    "        digit_frequency[idx, int(digit)] = count\n",
    "\n",
    "plt.figure(figsize=(10, 10))\n",
    "for i in range(len(numbers[0])):\n",
    "    plt.subplot(2, 2, i + 1)\n",
    "    sns.barplot(x=np.arange(10), y=digit_frequency[i])\n",
    "    plt.title(f\"Digit Position {i + 3}\")\n",
    "    plt.xlabel(\"Digit\")\n",
    "    plt.ylabel(\"Frequency\")\n",
    "\n",
    "plt.tight_layout()\n",
    "plt.show()"
   ],
   "metadata": {
    "collapsed": false,
    "ExecuteTime": {
     "end_time": "2024-08-23T14:41:18.027239Z",
     "start_time": "2024-08-23T14:41:17.589187Z"
    }
   },
   "id": "2bac4e10393642c5",
   "execution_count": 8
  }
 ],
 "metadata": {
  "kernelspec": {
   "display_name": "Python 3",
   "language": "python",
   "name": "python3"
  },
  "language_info": {
   "codemirror_mode": {
    "name": "ipython",
    "version": 2
   },
   "file_extension": ".py",
   "mimetype": "text/x-python",
   "name": "python",
   "nbconvert_exporter": "python",
   "pygments_lexer": "ipython2",
   "version": "2.7.6"
  }
 },
 "nbformat": 4,
 "nbformat_minor": 5
}
